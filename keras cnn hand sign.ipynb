{
 "cells": [
  {
   "cell_type": "code",
   "execution_count": 1,
   "metadata": {},
   "outputs": [
    {
     "name": "stderr",
     "output_type": "stream",
     "text": [
      "Using TensorFlow backend.\n"
     ]
    }
   ],
   "source": [
    "from keras.models import Sequential\n",
    "from keras.layers import Dense\n",
    "from keras.layers import Convolution2D\n",
    "from keras.layers import MaxPooling2D\n",
    "from keras.layers import Flatten\n",
    "import tensorflow \n",
    "from tensorflow.keras import layers,datasets,models"
   ]
  },
  {
   "cell_type": "code",
   "execution_count": 2,
   "metadata": {},
   "outputs": [],
   "source": [
    "model = tensorflow.keras.Sequential()"
   ]
  },
  {
   "cell_type": "code",
   "execution_count": 3,
   "metadata": {},
   "outputs": [],
   "source": [
    "model.add(layers.Convolution2D(32,3,3,input_shape=(64,64,3),activation=\"relu\"))"
   ]
  },
  {
   "cell_type": "code",
   "execution_count": 4,
   "metadata": {},
   "outputs": [],
   "source": [
    "model.add(layers.MaxPooling2D(pool_size=(2,2)))"
   ]
  },
  {
   "cell_type": "code",
   "execution_count": 5,
   "metadata": {},
   "outputs": [],
   "source": [
    "model.add(layers.Flatten())"
   ]
  },
  {
   "cell_type": "code",
   "execution_count": 6,
   "metadata": {},
   "outputs": [],
   "source": [
    "model.add(layers.Dense(units=128,activation=\"relu\"))\n",
    "\n",
    "\n"
   ]
  },
  {
   "cell_type": "code",
   "execution_count": 7,
   "metadata": {},
   "outputs": [],
   "source": [
    "model.add(layers.Dense(10))"
   ]
  },
  {
   "cell_type": "code",
   "execution_count": 8,
   "metadata": {},
   "outputs": [],
   "source": [
    "model.add(layers.Dense(units=15,activation=\"softmax\"))"
   ]
  },
  {
   "cell_type": "code",
   "execution_count": 9,
   "metadata": {},
   "outputs": [],
   "source": [
    "model.compile(loss=\"categorical_crossentropy\",optimizer=\"adam\",metrics=[\"accuracy\"])"
   ]
  },
  {
   "cell_type": "code",
   "execution_count": 10,
   "metadata": {},
   "outputs": [],
   "source": [
    "from keras.preprocessing.image import ImageDataGenerator\n",
    "train_datagen=ImageDataGenerator(rescale=1./255,shear_range=0.2,zoom_range=0.2,horizontal_flip=True\n",
    ")\n",
    "test_datagen=ImageDataGenerator(rescale=1./255)\n"
   ]
  },
  {
   "cell_type": "code",
   "execution_count": 11,
   "metadata": {},
   "outputs": [
    {
     "name": "stdout",
     "output_type": "stream",
     "text": [
      "Found 1514 images belonging to 15 classes.\n"
     ]
    }
   ],
   "source": [
    "x_train=train_datagen.flow_from_directory(r\"C:\\Users\\CHANDU\\Desktop\\submission\\train_set\",target_size=(64,64),batch_size=32,class_mode=\"categorical\")"
   ]
  },
  {
   "cell_type": "code",
   "execution_count": 12,
   "metadata": {},
   "outputs": [
    {
     "name": "stdout",
     "output_type": "stream",
     "text": [
      "Found 425 images belonging to 15 classes.\n"
     ]
    }
   ],
   "source": [
    "x_test=test_datagen.flow_from_directory(r\"C:\\Users\\CHANDU\\Desktop\\submission\\test_set\",target_size=(64,64),\n",
    "batch_size=32,class_mode=\"categorical\")"
   ]
  },
  {
   "cell_type": "code",
   "execution_count": 13,
   "metadata": {},
   "outputs": [
    {
     "name": "stdout",
     "output_type": "stream",
     "text": [
      "WARNING:tensorflow:From <ipython-input-13-7f95ee9ea834>:1: Model.fit_generator (from tensorflow.python.keras.engine.training) is deprecated and will be removed in a future version.\n",
      "Instructions for updating:\n",
      "Please use Model.fit, which supports generators.\n",
      "WARNING:tensorflow:sample_weight modes were coerced from\n",
      "  ...\n",
      "    to  \n",
      "  ['...']\n",
      "WARNING:tensorflow:sample_weight modes were coerced from\n",
      "  ...\n",
      "    to  \n",
      "  ['...']\n",
      "Train for 47 steps, validate for 13 steps\n",
      "Epoch 1/10\n",
      "47/47 [==============================] - 129s 3s/step - loss: 2.2273 - accuracy: 0.2740 - val_loss: 1.5827 - val_accuracy: 0.5337\n",
      "Epoch 2/10\n",
      "47/47 [==============================] - 111s 2s/step - loss: 1.0808 - accuracy: 0.7240 - val_loss: 0.6875 - val_accuracy: 0.8029\n",
      "Epoch 3/10\n",
      "47/47 [==============================] - 113s 2s/step - loss: 0.4451 - accuracy: 0.9082 - val_loss: 0.2399 - val_accuracy: 0.9639\n",
      "Epoch 4/10\n",
      "47/47 [==============================] - 126s 3s/step - loss: 0.1693 - accuracy: 0.9818 - val_loss: 0.0858 - val_accuracy: 1.0000\n",
      "Epoch 5/10\n",
      "47/47 [==============================] - 109s 2s/step - loss: 0.1022 - accuracy: 0.9845 - val_loss: 0.0609 - val_accuracy: 1.0000\n",
      "Epoch 6/10\n",
      "47/47 [==============================] - 103s 2s/step - loss: 0.0558 - accuracy: 0.9926 - val_loss: 0.0385 - val_accuracy: 1.0000\n",
      "Epoch 7/10\n",
      "47/47 [==============================] - 107s 2s/step - loss: 0.0436 - accuracy: 0.9919 - val_loss: 0.0292 - val_accuracy: 1.0000\n",
      "Epoch 8/10\n",
      "47/47 [==============================] - 105s 2s/step - loss: 0.0440 - accuracy: 0.9912 - val_loss: 0.0109 - val_accuracy: 1.0000\n",
      "Epoch 9/10\n",
      "47/47 [==============================] - 102s 2s/step - loss: 0.0249 - accuracy: 0.9960 - val_loss: 0.0407 - val_accuracy: 0.9808\n",
      "Epoch 10/10\n",
      "47/47 [==============================] - 108s 2s/step - loss: 0.0193 - accuracy: 0.9987 - val_loss: 0.0069 - val_accuracy: 1.0000\n"
     ]
    },
    {
     "data": {
      "text/plain": [
       "<tensorflow.python.keras.callbacks.History at 0x1c796237348>"
      ]
     },
     "execution_count": 13,
     "metadata": {},
     "output_type": "execute_result"
    }
   ],
   "source": [
    "model.fit_generator(x_train,steps_per_epoch =47,epochs=10,validation_data = x_test,validation_steps=13)\n"
   ]
  },
  {
   "cell_type": "code",
   "execution_count": 14,
   "metadata": {},
   "outputs": [],
   "source": [
    "model.save(\"signmodel.h5\")"
   ]
  },
  {
   "cell_type": "code",
   "execution_count": 15,
   "metadata": {},
   "outputs": [
    {
     "name": "stdout",
     "output_type": "stream",
     "text": [
      "{'airplane': 0, 'ball': 1, 'bathroom': 2, 'church': 3, 'coffee': 4, 'cup': 5, 'door': 6, 'football': 7, 'money': 8, 'morning': 9, 'no': 10, 'phone': 11, 'restroom': 12, 'victory': 13, 'yes': 14}\n"
     ]
    }
   ],
   "source": [
    "print(x_train.class_indices)"
   ]
  },
  {
   "cell_type": "code",
   "execution_count": null,
   "metadata": {},
   "outputs": [],
   "source": []
  }
 ],
 "metadata": {
  "kernelspec": {
   "display_name": "Python 3",
   "language": "python",
   "name": "python3"
  },
  "language_info": {
   "codemirror_mode": {
    "name": "ipython",
    "version": 3
   },
   "file_extension": ".py",
   "mimetype": "text/x-python",
   "name": "python",
   "nbconvert_exporter": "python",
   "pygments_lexer": "ipython3",
   "version": "3.7.7"
  }
 },
 "nbformat": 4,
 "nbformat_minor": 4
}
